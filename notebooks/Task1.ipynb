{
  "nbformat": 4,
  "nbformat_minor": 0,
  "metadata": {
    "kernelspec": {
      "display_name": "Python 3",
      "language": "python",
      "name": "python3"
    },
    "language_info": {
      "codemirror_mode": {
        "name": "ipython",
        "version": 3
      },
      "file_extension": ".py",
      "mimetype": "text/x-python",
      "name": "python",
      "nbconvert_exporter": "python",
      "pygments_lexer": "ipython3",
      "version": "3.6.9"
    },
    "colab": {
      "name": "Task2.ipynb",
      "provenance": [],
      "collapsed_sections": []
    }
  },
  "cells": [
    {
      "cell_type": "markdown",
      "metadata": {
        "id": "8wL0zSqvhtoQ"
      },
      "source": [
        "# Task2 - Installing the Pre-requisites\n",
        "\n",
        "---\n",
        "\n",
        "In this task we will install the pre-requisite tools for completing our project.\n",
        "\n",
        "---\n",
        "\n",
        "\n",
        "## Tools\n",
        "\n",
        "The tools we will install are:\n",
        "\n",
        "| Tool      | Description               |\n",
        "|:----------|:--------------------------|\n",
        "| [kubectl](https://kubernetes.io/docs/tasks/tools/install-kubectl/) | The Kubernetes CLI. |\n",
        "| [docker](https://docs.docker.com/engine/install/ubuntu/) | The container runtime used by `minikube`.|\n",
        "| [Minikube](https://github.com/kubernetes/minikube) | A single-node Kubernetes cluster inside a contianer. |\n",
        "| [Helm](https://helm.sh) | The Kubernetes package manager. |\n",
        "| [kubectx and kubens](https://github.com/ahmetb/kubectx) | Helper scripts for changing Kubernetes contexts and namespaces. |\n",
        "| [kubetail](https://github.com/johanhaleby/kubetail) | Helper script to easily tail logs from Pods. |\n",
        "\n",
        "**Notes**\n",
        "\n",
        "* `kubectx`, `kubens` and `kubetail` only work on Mac or Linux systems."
      ]
    },
    {
      "cell_type": "markdown",
      "metadata": {
        "id": "NWjBxzC1htoZ"
      },
      "source": [
        "### Kubectl Installation"
      ]
    },
    {
      "cell_type": "markdown",
      "metadata": {
        "id": "sRcIuqzDhtoa"
      },
      "source": [
        "The Kubernetes Command-Line tool that allows to run commands against Kubernetes clusters. The instructions for installing `kubectl` can be found [here](https://kubernetes.io/docs/tasks/tools/install-kubectl/).  \n",
        "\n",
        "There are various ways to install `kubectl` but we will focus on how to do it using `curl`. Let's download the latest release with the command:"
      ]
    },
    {
      "cell_type": "markdown",
      "metadata": {
        "id": "tNkletRAhtob"
      },
      "source": [
        "```bash\n",
        "curl -LO \"https://dl.k8s.io/release/$(curl -L -s https://dl.k8s.io/release/stable.txt)/bin/linux/amd64/kubectl\"\n",
        "```\n"
      ]
    },
    {
      "cell_type": "markdown",
      "metadata": {
        "id": "uYN-DdG-htoc"
      },
      "source": [
        "Now, Install kubectl use this command:"
      ]
    },
    {
      "cell_type": "markdown",
      "metadata": {
        "id": "CVKAVsz6htoc"
      },
      "source": [
        "```bash\n",
        "sudo install -o root -g root -m 0755 kubectl /usr/local/bin/kubectl\n",
        "```\n"
      ]
    },
    {
      "cell_type": "markdown",
      "metadata": {
        "id": "M16irxT5htod"
      },
      "source": [
        "Let's test to ensure the version you installed is up-to-date:"
      ]
    },
    {
      "cell_type": "markdown",
      "metadata": {
        "id": "EZjoaCZ9htod"
      },
      "source": [
        "```bash\n",
        "kubectl version --client\n",
        "```\n"
      ]
    },
    {
      "cell_type": "markdown",
      "metadata": {
        "id": "O0kr5bavhtoe"
      },
      "source": [
        "### Docker Installation"
      ]
    },
    {
      "cell_type": "markdown",
      "metadata": {
        "id": "eigqk4QHhtoe"
      },
      "source": [
        "Update the apt package index and install packages to allow apt to use a repository over HTTPS. Copu and Paste these **commands **one by one in the terminal. The official installation documentation page for docker can be found [here](https://docs.docker.com/engine/install/ubuntu/)."
      ]
    },
    {
      "cell_type": "markdown",
      "metadata": {
        "id": "KMHo2Mhnhtof"
      },
      "source": [
        "```bash\n",
        "sudo apt-get update\n",
        "```"
      ]
    },
    {
      "cell_type": "markdown",
      "metadata": {
        "id": "73_wvg0Whtof"
      },
      "source": [
        "Then this cmd:"
      ]
    },
    {
      "cell_type": "markdown",
      "metadata": {
        "id": "QsHZh-mNhtof"
      },
      "source": [
        "```bash\n",
        "sudo apt-get install \\\n",
        "    apt-transport-https \\\n",
        "    ca-certificates \\\n",
        "    curl \\\n",
        "    gnupg-agent \\\n",
        "    software-properties-common\n",
        "\n",
        "```"
      ]
    },
    {
      "cell_type": "markdown",
      "metadata": {
        "id": "QLJZX_9Rhtog"
      },
      "source": [
        "Press **Y** and then Enter."
      ]
    },
    {
      "cell_type": "markdown",
      "metadata": {
        "id": "IWVSel8Ghtog"
      },
      "source": [
        "Then we have to add Docker’s official GPG key:"
      ]
    },
    {
      "cell_type": "markdown",
      "metadata": {
        "id": "JIyWvpdDhtoh"
      },
      "source": [
        "```bash\n",
        "curl -fsSL https://download.docker.com/linux/ubuntu/gpg | sudo apt-key add -\n",
        "\n",
        "```"
      ]
    },
    {
      "cell_type": "markdown",
      "metadata": {
        "id": "Y4Rev25Khtoh"
      },
      "source": [
        "Use the following command to set up the stable repository:"
      ]
    },
    {
      "cell_type": "markdown",
      "metadata": {
        "id": "jOop-Im4htoi"
      },
      "source": [
        "```bash\n",
        "sudo add-apt-repository \\\n",
        "   \"deb [arch=amd64] https://download.docker.com/linux/ubuntu \\\n",
        "   $(lsb_release -cs) \\\n",
        "   stable\"\n",
        "\n",
        "```"
      ]
    },
    {
      "cell_type": "markdown",
      "metadata": {
        "id": "501GbB8thtoj"
      },
      "source": [
        "Press **Y** and then Enter."
      ]
    },
    {
      "cell_type": "markdown",
      "metadata": {
        "id": "CQV7Um6vhtoj"
      },
      "source": [
        "And install the latest version of Docker Engine and containerd\n",
        "```"
      ]
    },
    {
      "cell_type": "markdown",
      "metadata": {
        "id": "r6d7Yc92htok"
      },
      "source": [
        "```bash\n",
        "sudo apt-get install docker-ce docker-ce-cli containerd.io\n",
        "\n",
        "```"
      ]
    },
    {
      "cell_type": "markdown",
      "metadata": {
        "id": "Fbu_seljhtok"
      },
      "source": [
        "##### Allowing Permission to the sock:"
      ]
    },
    {
      "cell_type": "markdown",
      "metadata": {
        "id": "4eKhgt6Ihtok"
      },
      "source": [
        "```bash\n",
        "sudo chmod 666 /var/run/docker.sock\n",
        "```"
      ]
    },
    {
      "cell_type": "markdown",
      "metadata": {
        "id": "GLrMcTb9htol"
      },
      "source": [
        "NOTE: The above command is only required for the Coursera Project Cloud Desktop. Do not use it locally."
      ]
    },
    {
      "cell_type": "markdown",
      "metadata": {
        "id": "QLPKdESThtol"
      },
      "source": [
        "### Minikube Installation"
      ]
    },
    {
      "cell_type": "markdown",
      "metadata": {
        "id": "MYfVtPzIhtol"
      },
      "source": [
        "Installing minikube using binary download option."
      ]
    },
    {
      "cell_type": "markdown",
      "metadata": {
        "id": "7ldy6fJehtom"
      },
      "source": [
        "The releases for `minikube` can be found [here](https://github.com/kubernetes/minikube/releases)."
      ]
    },
    {
      "cell_type": "markdown",
      "metadata": {
        "id": "vVRc3M3rhtom"
      },
      "source": [
        "```bash\n",
        "curl -LO https://storage.googleapis.com/minikube/releases/latest/minikube-linux-amd64\n",
        "sudo install minikube-linux-amd64 /usr/local/bin/minikube\n",
        "```"
      ]
    },
    {
      "cell_type": "markdown",
      "metadata": {
        "id": "kNCH6Oqjhtop"
      },
      "source": [
        "### Kubectx and Kubens Installation"
      ]
    },
    {
      "cell_type": "markdown",
      "metadata": {
        "id": "DJaxxxg5htoq"
      },
      "source": [
        "Helper scripts for changing Kubernetes contexts and namespaces. The github repo for `kubectx` and `kubens` can be found [here](https://github.com/ahmetb/kubectx). First Let's get Kubectx and Kubens from github using:"
      ]
    },
    {
      "cell_type": "markdown",
      "metadata": {
        "id": "U8k8Jf-ehtoq"
      },
      "source": [
        "```bash\n",
        "wget https://raw.githubusercontent.com/ahmetb/kubectx/master/kubectx\n",
        "\n",
        "```"
      ]
    },
    {
      "cell_type": "markdown",
      "metadata": {
        "id": "3YF1aLJUhtoq"
      },
      "source": [
        "And then"
      ]
    },
    {
      "cell_type": "markdown",
      "metadata": {
        "id": "dH7i8ESbhtor"
      },
      "source": [
        "```bash\n",
        "wget https://raw.githubusercontent.com/ahmetb/kubectx/master/kubens\n",
        "\n",
        "```"
      ]
    },
    {
      "cell_type": "markdown",
      "metadata": {
        "id": "uhEaDFFOhtor"
      },
      "source": [
        "Now, let's change the file permission for kubectx and kubens"
      ]
    },
    {
      "cell_type": "markdown",
      "metadata": {
        "id": "LF5ZFyL7htor"
      },
      "source": [
        "```bash\n",
        "sudo chmod +x kubectx kubens\n",
        "\n",
        "```"
      ]
    },
    {
      "cell_type": "markdown",
      "metadata": {
        "id": "OJRGr72Fhtos"
      },
      "source": [
        "Let's move it to the /usr/local/bin directory"
      ]
    },
    {
      "cell_type": "markdown",
      "metadata": {
        "id": "UM7t80Zrhtos"
      },
      "source": [
        "```bash\n",
        "sudo mv kubectx kubens /usr/local/bin\n",
        "\n",
        "```"
      ]
    },
    {
      "cell_type": "markdown",
      "metadata": {
        "id": "5RSQmegehtos"
      },
      "source": [
        "### Kubetail Installation"
      ]
    },
    {
      "cell_type": "markdown",
      "metadata": {
        "id": "XheTUsRahtos"
      },
      "source": [
        "A helper script for easily tail logs from pods."
      ]
    },
    {
      "cell_type": "markdown",
      "metadata": {
        "id": "JwCaX7wAhtot"
      },
      "source": [
        "```bash\n",
        "wget https://raw.githubusercontent.com/johanhaleby/kubetail/master/kubetail\n",
        "\n",
        "```"
      ]
    },
    {
      "cell_type": "markdown",
      "metadata": {
        "id": "e8XoP0jPhtot"
      },
      "source": [
        "Now, let's change the file permission for kubetail"
      ]
    },
    {
      "cell_type": "markdown",
      "metadata": {
        "id": "DcOIuPmEhtot"
      },
      "source": [
        "```bash\n",
        "sudo chmod +x kubetail\n",
        "\n",
        "```"
      ]
    },
    {
      "cell_type": "markdown",
      "metadata": {
        "id": "lu-an6vIhtou"
      },
      "source": [
        "Let's move it to the /usr/local/bin directory"
      ]
    },
    {
      "cell_type": "markdown",
      "metadata": {
        "id": "zJ9Hmpukhtou"
      },
      "source": [
        "```bash\n",
        "sudo mv kubetail /usr/local/bin\n",
        "```"
      ]
    }
  ]
}